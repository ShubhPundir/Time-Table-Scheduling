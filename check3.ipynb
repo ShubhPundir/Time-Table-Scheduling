{
 "cells": [
  {
   "cell_type": "code",
   "execution_count": 2,
   "id": "383f6bda",
   "metadata": {},
   "outputs": [],
   "source": [
    "from enum import Enum\n",
    "\n",
    "class Days(Enum):\n",
    "    MONDAY = 'Monday'\n",
    "    TUESDAY = 'Tuesday'\n",
    "    WEDNESDAY = 'Wednesday'\n",
    "    THURSDAY = 'Thursday'\n",
    "    FRIDAY = 'Friday'\n"
   ]
  },
  {
   "cell_type": "code",
   "execution_count": 4,
   "id": "5afcb5f4",
   "metadata": {},
   "outputs": [
    {
     "ename": "NameError",
     "evalue": "name 'course1' is not defined",
     "output_type": "error",
     "traceback": [
      "\u001b[1;31m---------------------------------------------------------------------------\u001b[0m",
      "\u001b[1;31mNameError\u001b[0m                                 Traceback (most recent call last)",
      "Cell \u001b[1;32mIn[4], line 35\u001b[0m\n\u001b[0;32m     33\u001b[0m             \u001b[38;5;28mprint\u001b[39m(\u001b[38;5;124m\"\u001b[39m\u001b[38;5;130;01m\\n\u001b[39;00m\u001b[38;5;124m\"\u001b[39m)\n\u001b[0;32m     34\u001b[0m section_A \u001b[38;5;241m=\u001b[39m Section(\u001b[38;5;124m\"\u001b[39m\u001b[38;5;124mA\u001b[39m\u001b[38;5;124m\"\u001b[39m)\n\u001b[1;32m---> 35\u001b[0m section_A\u001b[38;5;241m.\u001b[39madd_course(course1, yogita, Days\u001b[38;5;241m.\u001b[39mMONDAY\u001b[38;5;241m.\u001b[39mvalue, \u001b[38;5;241m1\u001b[39m)\n\u001b[0;32m     36\u001b[0m section_A\u001b[38;5;241m.\u001b[39madd_course(course2, anuradha, Days\u001b[38;5;241m.\u001b[39mTUESDAY\u001b[38;5;241m.\u001b[39mvalue, \u001b[38;5;241m2\u001b[39m)\n\u001b[0;32m     37\u001b[0m section_A\u001b[38;5;241m.\u001b[39madd_course(course3, neha, Days\u001b[38;5;241m.\u001b[39mWEDNESDAY\u001b[38;5;241m.\u001b[39mvalue, \u001b[38;5;241m3\u001b[39m)\n",
      "\u001b[1;31mNameError\u001b[0m: name 'course1' is not defined"
     ]
    }
   ],
   "source": [
    "class Section:\n",
    "    def __init__(self, section_name):\n",
    "        self.section_name = section_name\n",
    "        self.courses = {}\n",
    "        self.timetable = {day.value: [0 for _ in range(6)] for day in Days}\n",
    "\n",
    "    def add_course(self, course, faculty, day, slot):\n",
    "        if day not in self.timetable:\n",
    "            print(f\"Error: Invalid day {day} for {course.course_name}. Skipping.\")\n",
    "            return\n",
    "\n",
    "        if slot < 1 or slot > 6:\n",
    "            print(f\"Error: Invalid slot {slot} for {course.course_name}. Skipping.\")\n",
    "            return\n",
    "\n",
    "        if self.timetable[day][slot - 1] != 0:\n",
    "            print(f\"Error: Slot {slot} on {day} is already occupied. Skipping.\")\n",
    "            return\n",
    "\n",
    "        self.courses[course.course_code] = {\"course_name\": course.course_name, \"faculty\": faculty.faculty_name}\n",
    "        self.timetable[day][slot - 1] = course.course_code\n",
    "\n",
    "    def display_timetable(self):\n",
    "        print(f\"Timetable for {self.section_name}:\\n\")\n",
    "        for day, schedule in self.timetable.items():\n",
    "            print(f\"{day}:\")\n",
    "            for slot, course_code in enumerate(schedule):\n",
    "                if course_code != 0:\n",
    "                    course_info = self.courses[course_code]\n",
    "                    print(f\"  Slot {slot + 1}: {course_info['course_name']} with {course_info['faculty']}\")\n",
    "                else:\n",
    "                    print(f\"  Slot {slot + 1}: Free\")\n",
    "            print(\"\\n\")\n",
    "section_A = Section(\"A\")\n",
    "section_A.add_course(course1, yogita, Days.MONDAY.value, 1)\n",
    "section_A.add_course(course2, anuradha, Days.TUESDAY.value, 2)\n",
    "section_A.add_course(course3, neha, Days.WEDNESDAY.value, 3)\n",
    "section_A.add_course(course4, pooja, Days.THURSDAY.value, 1)\n",
    "section_A.add_course(major1, akanksha, Days.FRIDAY.value, 2)\n",
    "\n",
    "section_A.display_timetable()\n"
   ]
  },
  {
   "cell_type": "code",
   "execution_count": null,
   "id": "44013360",
   "metadata": {},
   "outputs": [],
   "source": []
  }
 ],
 "metadata": {
  "kernelspec": {
   "display_name": "Python 3 (ipykernel)",
   "language": "python",
   "name": "python3"
  },
  "language_info": {
   "codemirror_mode": {
    "name": "ipython",
    "version": 3
   },
   "file_extension": ".py",
   "mimetype": "text/x-python",
   "name": "python",
   "nbconvert_exporter": "python",
   "pygments_lexer": "ipython3",
   "version": "3.11.5"
  }
 },
 "nbformat": 4,
 "nbformat_minor": 5
}
