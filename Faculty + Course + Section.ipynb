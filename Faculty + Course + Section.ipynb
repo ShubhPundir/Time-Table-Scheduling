{
 "cells": [
  {
   "cell_type": "markdown",
   "id": "b496681e",
   "metadata": {},
   "source": [
    "# FACULTY"
   ]
  },
  {
   "cell_type": "code",
   "execution_count": 2,
   "id": "83c7cefc",
   "metadata": {},
   "outputs": [],
   "source": [
    "class Faculty:\n",
    "    def __init__(self, faculty_id, faculty_name, courses_taught):\n",
    "        self.faculty_id = faculty_id\n",
    "        self.faculty_name = faculty_name\n",
    "        self.courses_taught = courses_taught"
   ]
  },
  {
   "cell_type": "code",
   "execution_count": 3,
   "id": "ff804b3f",
   "metadata": {},
   "outputs": [],
   "source": [
    "faculty1 = Faculty(121, \"Anuradha\", [\"Data Structures\"])\n",
    "faculty2 = Faculty(184, \"Yogita\", [\"Computer Networks\", \"Discrete Mathematics\"])\n",
    "faculty3 = Faculty(248, \"Pooja\", [\"Digital Electronics\"])\n",
    "faculty4 = Faculty(152, \"Neha\", [\"Discrete Mathematics\"])\n",
    "faculty5 = Faculty(146, \"Akanksha\", [\"PFDS\"])\n",
    "faculty6 = Faculty(174, \"Nisha\", [\"GDAC\"])\n",
    "faculty7 = Faculty(149, \"Shaveta\", [\"CY\", \"Data Structures\"])\n",
    "faculty8 = Faculty(139, \"Pankaj\", [\"EWA\"])\n",
    "faculty9 = Faculty(163, \"Prerna\", [\"PFDS\"])\n",
    "faculty10 = Faculty(289, \"Sharda\", [\"Digital Electronics\"])\n",
    "faculty11 = Faculty(274, \"Arjun\", [\"Digital Electronics\"])\n",
    "faculty12 = Faculty(217, \"Anjali\", [\"Digital Electronics\"])\n",
    "faculty13 = Faculty(227, \"Vandana\", [\"Digital Electronics\"])\n",
    "faculty14 = Faculty(123, \"Shilpa\", [\"Data Structures\"])\n",
    "faculty15 = Faculty(125, \"Anshul\", [\"Data Structures\"])\n",
    "faculty16 = Faculty(127, \"Neetu\", [\"Data Structures\", \"Computer Networks\"])\n",
    "faculty17 = Faculty(143, \"Rajni\", [\"Discrete Mathematics\"])\n",
    "faculty18 = Faculty(179, \"Neeti\", [\"Computer Networks\"])\n",
    "faculty19 = Faculty(175, \"Mehak\", [\"Computer Networks\"])"
   ]
  },
  {
   "cell_type": "markdown",
   "id": "60fdd280",
   "metadata": {},
   "source": [
    "# COURSE"
   ]
  },
  {
   "cell_type": "code",
   "execution_count": 4,
   "id": "e4ffac27",
   "metadata": {},
   "outputs": [],
   "source": [
    "class Course:\n",
    "    def __init__(self, course_code, course_name, course_faculty, course_lectures, course_labs):\n",
    "        self.course_code = course_code\n",
    "        self.course_name = course_name\n",
    "        self.course_faculty = course_faculty\n",
    "        self.course_lectures = course_lectures\n",
    "        self.course_labs = course_labs"
   ]
  },
  {
   "cell_type": "code",
   "execution_count": 5,
   "id": "7a6363a0",
   "metadata": {},
   "outputs": [],
   "source": [
    "course1 = Course(101, \"Computer Networks\", [\"Yogita\", \"Neetu\", \"Neeti\", \"Mehak\"], 3, 1)\n",
    "course2 = Course(102, \"Data Structures\", [\"Anuradha\", \"Shilpa\", \"Anshul\", \"Neetu\", \"Shaveta\"], 3, 1)\n",
    "course3 = Course(103, \"Discrete Mathematics\", [\"Neha\", \"Yogita\", \"Rajni\"], 2 , 0)\n",
    "course4 = Course(201, \"Digital Electronics\", [\"Pooja\", \"Sharda\", \"Arjun\", \"Anjali\", \"Vandana\"], 2, 1)\n",
    "major1 = Course(104, \"PFDS\", [\"Akanksha\", \"Prerna\"], 3, 2)\n",
    "major2 = Course(105, \"GDAC\", [\"Nisha\"], 3, 2)\n",
    "major3 = Course(106, \"EWA\", [\"Pankaj\"], 3, 2)\n",
    "major4 = Course(107, \"CY\", [\"Shaveta\"], 3, 2)\n",
    "recess = Course(0, [], [], 1, 0)"
   ]
  },
  {
   "cell_type": "code",
   "execution_count": null,
   "id": "6973399e",
   "metadata": {},
   "outputs": [],
   "source": []
  },
  {
   "cell_type": "markdown",
   "id": "c6b4dff9",
   "metadata": {},
   "source": [
    "# SECTION"
   ]
  },
  {
   "cell_type": "code",
   "execution_count": 20,
   "id": "e40b1064",
   "metadata": {},
   "outputs": [],
   "source": [
    "class Section:\n",
    "    def __init__(self, section_name):\n",
    "        self.section_name = section_name\n",
    "        self.courses = {}\n",
    "\n",
    "    def add_course(self, course, faculty):\n",
    "        self.courses[course.course_code] = {\"course_name\": course.course_name, \"faculty\": faculty} #dict\n",
    "\n",
    "    def section_info(self):\n",
    "        print(\"Section:\", self.section_name)\n",
    "        print(\"Courses:\")\n",
    "        for course_code, info in self.courses.items():\n",
    "            print(\"Course Code:\", course_code)\n",
    "            print(\"Course Name:\", {info['course_name']})\n",
    "            print(\"Faculty:\", {', '.join(info['faculty'])})\n",
    "            print()"
   ]
  },
  {
   "cell_type": "code",
   "execution_count": 22,
   "id": "5e9314aa",
   "metadata": {},
   "outputs": [
    {
     "name": "stdout",
     "output_type": "stream",
     "text": [
      "Section: E\n",
      "Courses:\n",
      "Course Code: 101\n",
      "Course Name: {'Computer Networks'}\n",
      "Faculty: {'Mehak'}\n",
      "\n",
      "Course Code: 102\n",
      "Course Name: {'Data Structures'}\n",
      "Faculty: {'Neetu'}\n",
      "\n",
      "Course Code: 103\n",
      "Course Name: {'Discrete Mathematics'}\n",
      "Faculty: {'Rajni'}\n",
      "\n",
      "Course Code: 201\n",
      "Course Name: {'Digital Electronics'}\n",
      "Faculty: {'Vandana'}\n",
      "\n",
      "Course Code: 106\n",
      "Course Name: {'EWA'}\n",
      "Faculty: {'Shaveta'}\n",
      "\n"
     ]
    }
   ],
   "source": [
    "section_E.section_info()"
   ]
  },
  {
   "cell_type": "code",
   "execution_count": 8,
   "id": "59e2757f",
   "metadata": {},
   "outputs": [],
   "source": [
    "section_A = Section(\"A\")\n",
    "\n",
    "section_A.add_course(course1, [\"Yogita\"])\n",
    "section_A.add_course(course2, [\"Anuradha\"])\n",
    "section_A.add_course(course3, [\"Neha\"])\n",
    "section_A.add_course(course4, [\"Pooja\"])\n",
    "section_A.add_course(major1, [\"Akanksha\"])"
   ]
  },
  {
   "cell_type": "code",
   "execution_count": 9,
   "id": "87e33406",
   "metadata": {},
   "outputs": [],
   "source": [
    "section_B = Section(\"B\")\n",
    "\n",
    "section_B.add_course(course1, [\"Neeti\"])\n",
    "section_B.add_course(course2, [\"Shilpa\"])\n",
    "section_B.add_course(course3, [\"Yogita\"])\n",
    "section_B.add_course(course4, [\"Arjun\"])\n",
    "section_B.add_course(major1, [\"Prerna\"])"
   ]
  },
  {
   "cell_type": "code",
   "execution_count": 10,
   "id": "30837b51",
   "metadata": {},
   "outputs": [],
   "source": [
    "section_C = Section(\"C\")\n",
    "\n",
    "section_C.add_course(course1, [\"Yogita\"])\n",
    "section_C.add_course(course2, [\"Anshul\"])\n",
    "section_C.add_course(course3, [\"Neha\"])\n",
    "section_C.add_course(course4, [\"Sharda\"])\n",
    "section_C.add_course(major2, [\"Nishi\"])"
   ]
  },
  {
   "cell_type": "code",
   "execution_count": 11,
   "id": "3804eeb5",
   "metadata": {},
   "outputs": [],
   "source": [
    "section_D = Section(\"D\")\n",
    "\n",
    "section_D.add_course(course1, [\"Neetu\"])\n",
    "section_D.add_course(course2, [\"Shaveta\"])\n",
    "section_D.add_course(course3, [\"Neha\"])\n",
    "section_D.add_course(course4, [\"Anjali\"])\n",
    "section_D.add_course(major3, [\"Pankaj\"])"
   ]
  },
  {
   "cell_type": "code",
   "execution_count": 21,
   "id": "0bebc479",
   "metadata": {},
   "outputs": [],
   "source": [
    "section_E = Section(\"E\")\n",
    "\n",
    "section_E.add_course(course1, [\"Mehak\"])\n",
    "section_E.add_course(course2, [\"Neetu\"])\n",
    "section_E.add_course(course3, [\"Rajni\"])\n",
    "section_E.add_course(course4, [\"Vandana\"])\n",
    "section_E.add_course(major3, [\"Shaveta\"])"
   ]
  }
 ],
 "metadata": {
  "kernelspec": {
   "display_name": "Python 3 (ipykernel)",
   "language": "python",
   "name": "python3"
  },
  "language_info": {
   "codemirror_mode": {
    "name": "ipython",
    "version": 3
   },
   "file_extension": ".py",
   "mimetype": "text/x-python",
   "name": "python",
   "nbconvert_exporter": "python",
   "pygments_lexer": "ipython3",
   "version": "3.11.5"
  }
 },
 "nbformat": 4,
 "nbformat_minor": 5
}
