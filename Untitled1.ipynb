{
 "cells": [
  {
   "cell_type": "code",
   "execution_count": 1,
   "id": "6cecd297",
   "metadata": {},
   "outputs": [
    {
     "data": {
      "text/plain": [
       "{'Monday': [0, 0, 0, 0, 0, 0],\n",
       " 'Tuesday': [0, 0, 0, 0, 0, 0],\n",
       " 'Wednesday': [0, 0, 0, 0, 0, 0],\n",
       " 'Thursday': [0, 0, 0, 0, 0, 0],\n",
       " 'Friday': [0, 0, 0, 0, 0, 0]}"
      ]
     },
     "execution_count": 1,
     "metadata": {},
     "output_type": "execute_result"
    }
   ],
   "source": [
    "time_table = dict()\n",
    "mon_list = [0]*6\n",
    "tue_list = [0]*6\n",
    "wed_list = [0]*6\n",
    "thu_list = [0]*6\n",
    "fri_list = [0]*6\n",
    "time_table['Monday'] = mon_list\n",
    "time_table['Tuesday'] = tue_list\n",
    "time_table['Wednesday'] = wed_list\n",
    "time_table['Thursday'] = thu_list\n",
    "time_table['Friday'] = fri_list\n",
    "time_table"
   ]
  },
  {
   "cell_type": "code",
   "execution_count": null,
   "id": "b6f276bc",
   "metadata": {},
   "outputs": [],
   "source": []
  },
  {
   "cell_type": "code",
   "execution_count": null,
   "id": "6a2cbbd4",
   "metadata": {},
   "outputs": [],
   "source": []
  },
  {
   "cell_type": "code",
   "execution_count": 1,
   "id": "38d30098",
   "metadata": {},
   "outputs": [
    {
     "name": "stdout",
     "output_type": "stream",
     "text": [
      "Section: A\n",
      "Courses:\n",
      "Course Code: 101\n",
      "Course Name: Computer Networks\n",
      "\n",
      "Course Code: 102\n",
      "Course Name: Data Structures\n",
      "\n",
      "Course Code: 103\n",
      "Course Name: Discrete Mathematics\n",
      "\n",
      "Course Code: 104\n",
      "Course Name: Digital Electronics\n",
      "\n",
      "Course Code: 201\n",
      "Course Name: PFDS\n",
      "\n",
      "Course Code: 0\n",
      "Course Name: RECESS\n",
      "\n",
      "None\n"
     ]
    }
   ],
   "source": [
    "from NewBase import course_list, faculty_list, section_list"
   ]
  },
  {
   "cell_type": "code",
   "execution_count": 4,
   "id": "a9e60cd7",
   "metadata": {},
   "outputs": [
    {
     "name": "stdout",
     "output_type": "stream",
     "text": [
      "Computer Networks\n",
      "Yogita\n",
      "\n",
      "Data Structures\n",
      "Anuradha\n",
      "\n",
      "Discrete Mathematics\n",
      "Neha\n",
      "\n",
      "Digital Electronics\n",
      "Pooja\n",
      "\n",
      "PFDS\n",
      "Akanksha\n",
      "\n",
      "RECESS\n",
      "EMPTY\n",
      "\n",
      "--------------------\n",
      "Computer Networks\n",
      "Neeti\n",
      "\n",
      "Data Structures\n",
      "Shilpa\n",
      "\n",
      "Discrete Mathematics\n",
      "Yogita\n",
      "\n",
      "Digital Electronics\n",
      "Arjun\n",
      "\n",
      "PFDS\n",
      "Prerna\n",
      "\n",
      "RECESS\n",
      "EMPTY\n",
      "\n",
      "--------------------\n",
      "Computer Networks\n",
      "Yogita\n",
      "\n",
      "Data Structures\n",
      "Anshul\n",
      "\n",
      "Discrete Mathematics\n",
      "Neha\n",
      "\n",
      "Digital Electronics\n",
      "Sharda\n",
      "\n",
      "GDAC\n",
      "Nisha\n",
      "\n",
      "RECESS\n",
      "EMPTY\n",
      "\n",
      "--------------------\n",
      "Computer Networks\n",
      "Neetu\n",
      "\n",
      "Data Structures\n",
      "Shaveta\n",
      "\n",
      "Discrete Mathematics\n",
      "Neha\n",
      "\n",
      "Digital Electronics\n",
      "Anjali\n",
      "\n",
      "EWA\n",
      "Pankaj\n",
      "\n",
      "RECESS\n",
      "EMPTY\n",
      "\n",
      "--------------------\n",
      "Computer Networks\n",
      "Mehak\n",
      "\n",
      "Data Structures\n",
      "Neetu\n",
      "\n",
      "Discrete Mathematics\n",
      "Rajni\n",
      "\n",
      "Digital Electronics\n",
      "Vandana\n",
      "\n",
      "EWA\n",
      "Shaveta\n",
      "\n",
      "RECESS\n",
      "EMPTY\n",
      "\n",
      "--------------------\n"
     ]
    }
   ],
   "source": [
    "for section in section_list:\n",
    "    for c,f in section.courses.items():\n",
    "        print(c.course_name)\n",
    "        print(f.faculty_name)\n",
    "        print()\n",
    "    print('-'*20)"
   ]
  }
 ],
 "metadata": {
  "kernelspec": {
   "display_name": "Python 3 (ipykernel)",
   "language": "python",
   "name": "python3"
  },
  "language_info": {
   "codemirror_mode": {
    "name": "ipython",
    "version": 3
   },
   "file_extension": ".py",
   "mimetype": "text/x-python",
   "name": "python",
   "nbconvert_exporter": "python",
   "pygments_lexer": "ipython3",
   "version": "3.11.5"
  }
 },
 "nbformat": 4,
 "nbformat_minor": 5
}
