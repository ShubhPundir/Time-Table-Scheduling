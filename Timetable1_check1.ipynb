{
 "cells": [
  {
   "cell_type": "code",
   "execution_count": 3,
   "id": "9a7ba5f3",
   "metadata": {
    "scrolled": true
   },
   "outputs": [
    {
     "data": {
      "text/plain": [
       "[[0, 0, 0, 0, 0, 0],\n",
       " [0, 0, 0, 0, 0, 0],\n",
       " [0, 0, 0, 0, 0, 0],\n",
       " [0, 0, 0, 0, 0, 0],\n",
       " [0, 0, 0, 0, 0, 0]]"
      ]
     },
     "execution_count": 3,
     "metadata": {},
     "output_type": "execute_result"
    }
   ],
   "source": [
    "[[0] * 6 for _ in range(5)]"
   ]
  },
  {
   "cell_type": "code",
   "execution_count": 21,
   "id": "87abc42b",
   "metadata": {},
   "outputs": [],
   "source": [
    "class Timetable:\n",
    "    \n",
    "    def __init__(self):\n",
    "        time_table = dict()\n",
    "        mon_list = tue_list = wed_list = thu_list = fri_list = [0]*6\n",
    "        time_table['Monday'] = mon_list\n",
    "        time_table['Tuesday'] = tue_list\n",
    "        time_table['Wednesday'] = wed_list\n",
    "        time_table['Thursday'] = thu_list\n",
    "        time_table['Friday'] = fri_list\n",
    "        self.timetable = time_table\n",
    "\n",
    "    def display_timetable(self):\n",
    "        for row,cols in self.timetable.items():\n",
    "            print(row,cols)\n",
    "\n",
    "    def check(self, day, course, position):\n",
    "        if self.timetable[day][position] == 0:\n",
    "            \n",
    "            self.insert(day, course, position)\n",
    "        else:\n",
    "            print(f\"Class slot at Day {day} Position {position} is occupied.\")\n",
    "\n",
    "    def insert(self, day, course, position):\n",
    "        self.timetable[day][position] = course\n",
    "        print(f\"Class {course} successfully scheduled at Day {day} Position {position}.\")"
   ]
  },
  {
   "cell_type": "code",
   "execution_count": 22,
   "id": "961e4acf",
   "metadata": {},
   "outputs": [
    {
     "name": "stdout",
     "output_type": "stream",
     "text": [
      "Monday [0, 0, 0, 0, 0, 0]\n",
      "Tuesday [0, 0, 0, 0, 0, 0]\n",
      "Wednesday [0, 0, 0, 0, 0, 0]\n",
      "Thursday [0, 0, 0, 0, 0, 0]\n",
      "Friday [0, 0, 0, 0, 0, 0]\n"
     ]
    }
   ],
   "source": [
    "secA = Timetable()\n",
    "secA.display_timetable()"
   ]
  },
  {
   "cell_type": "code",
   "execution_count": 23,
   "id": "3e75d16a",
   "metadata": {},
   "outputs": [],
   "source": [
    "from NewBase import faculty_list"
   ]
  },
  {
   "cell_type": "code",
   "execution_count": 26,
   "id": "5d3b632f",
   "metadata": {},
   "outputs": [
    {
     "data": {
      "text/plain": [
       "<NewBase.Faculty at 0x2a11880e750>"
      ]
     },
     "execution_count": 26,
     "metadata": {},
     "output_type": "execute_result"
    }
   ],
   "source": [
    "faculty_list[0]"
   ]
  },
  {
   "cell_type": "code",
   "execution_count": 14,
   "id": "2ff32560",
   "metadata": {},
   "outputs": [
    {
     "data": {
      "text/plain": [
       "{'Monday': [0, 0, 0, 0, 0, 0],\n",
       " 'Tuesday': [0, 0, 0, 0, 0, 0],\n",
       " 'Wednesday': [0, 0, 0, 0, 0, 0],\n",
       " 'Thursday': [0, 0, 0, 0, 0, 0],\n",
       " 'Friday': [0, 0, 0, 0, 0, 0]}"
      ]
     },
     "execution_count": 14,
     "metadata": {},
     "output_type": "execute_result"
    }
   ],
   "source": [
    "time_table = dict()\n",
    "mon_list = tue_list = wed_list = thu_list = fri_list = [0]*6\n",
    "time_table['Monday'] = mon_list\n",
    "time_table['Tuesday'] = tue_list\n",
    "time_table['Wednesday'] = wed_list\n",
    "time_table['Thursday'] = thu_list\n",
    "time_table['Friday'] = fri_list\n",
    "time_table"
   ]
  },
  {
   "cell_type": "code",
   "execution_count": 17,
   "id": "cb38056d",
   "metadata": {},
   "outputs": [],
   "source": [
    "mon_list = [0,1,0,1,1,1]\n",
    "time_table['Monday'] = mon_list"
   ]
  },
  {
   "cell_type": "code",
   "execution_count": 18,
   "id": "8db02923",
   "metadata": {},
   "outputs": [
    {
     "data": {
      "text/plain": [
       "{'Monday': [0, 1, 0, 1, 1, 1],\n",
       " 'Tuesday': [0, 0, 0, 0, 0, 0],\n",
       " 'Wednesday': [0, 0, 0, 0, 0, 0],\n",
       " 'Thursday': [0, 0, 0, 0, 0, 0],\n",
       " 'Friday': [0, 0, 0, 0, 0, 0]}"
      ]
     },
     "execution_count": 18,
     "metadata": {},
     "output_type": "execute_result"
    }
   ],
   "source": [
    "time_table"
   ]
  },
  {
   "cell_type": "code",
   "execution_count": 8,
   "id": "6abd6f15",
   "metadata": {},
   "outputs": [
    {
     "data": {
      "text/plain": [
       "[0, 0, 0, 0, 0, 0]"
      ]
     },
     "execution_count": 8,
     "metadata": {},
     "output_type": "execute_result"
    }
   ],
   "source": [
    "time_table['Tuesday']"
   ]
  },
  {
   "cell_type": "markdown",
   "id": "29c303af",
   "metadata": {},
   "source": [
    "A - E = 5\n",
    "majors 4 \n",
    "faculty 19 \n",
    "\n",
    "5 section time tables  + 19 faculty time tables\n",
    "\n",
    "check \n",
    "1. faculty free?\n",
    "2. section free?"
   ]
  },
  {
   "cell_type": "code",
   "execution_count": 11,
   "id": "0c2b8e5d",
   "metadata": {},
   "outputs": [],
   "source": [
    "class Timetable:\n",
    "    \n",
    "    def __init__(self, rows, cols):\n",
    "        self.timetable = [[0] * cols for _ in range(rows)]\n",
    "\n",
    "    def display_timetable(self):\n",
    "        for row in self.timetable:\n",
    "            print(row)\n",
    "\n",
    "    def check(self, day, course, position):\n",
    "        if self.timetable[day][position] == 0:\n",
    "            \n",
    "            self.insert(day, course, position)\n",
    "        else:\n",
    "            print(f\"Class slot at Day {day} Position {position} is occupied.\")\n",
    "\n",
    "    def insert(self, day, course, position):\n",
    "        self.timetable[day][position] = course\n",
    "        print(f\"Class {course} successfully scheduled at Day {day} Position {position}.\")"
   ]
  },
  {
   "cell_type": "code",
   "execution_count": 12,
   "id": "de56b72b",
   "metadata": {},
   "outputs": [
    {
     "name": "stdout",
     "output_type": "stream",
     "text": [
      "Class DECA successfully scheduled at Day 0 Position 5.\n",
      "Class DM successfully scheduled at Day 2 Position 0.\n",
      "Class CN successfully scheduled at Day 4 Position 3.\n",
      "Class slot at Day 4 Position 3 is occupied.\n",
      "[0, 0, 0, 0, 0, 'DECA', 0]\n",
      "[0, 0, 0, 0, 0, 0, 0]\n",
      "['DM', 0, 0, 0, 0, 0, 0]\n",
      "[0, 0, 0, 0, 0, 0, 0]\n",
      "[0, 0, 0, 'CN', 0, 0, 0]\n"
     ]
    }
   ],
   "source": [
    "\n",
    "## Section A --> timetable_1\n",
    "timetable_1 = Timetable(5, 7)\n",
    "\n",
    "timetable_1.check(0, \"DECA\", 5)\n",
    "timetable_1.check(2, \"DM\", 0)\n",
    "timetable_1.check(4, \"CN\", 3)\n",
    "timetable_1.check(4, \"DM\", 3)\n",
    "timetable_1.display_timetable()\n"
   ]
  },
  {
   "cell_type": "code",
   "execution_count": null,
   "id": "7ccf962b",
   "metadata": {},
   "outputs": [],
   "source": []
  }
 ],
 "metadata": {
  "kernelspec": {
   "display_name": "Python 3 (ipykernel)",
   "language": "python",
   "name": "python3"
  },
  "language_info": {
   "codemirror_mode": {
    "name": "ipython",
    "version": 3
   },
   "file_extension": ".py",
   "mimetype": "text/x-python",
   "name": "python",
   "nbconvert_exporter": "python",
   "pygments_lexer": "ipython3",
   "version": "3.11.5"
  }
 },
 "nbformat": 4,
 "nbformat_minor": 5
}
